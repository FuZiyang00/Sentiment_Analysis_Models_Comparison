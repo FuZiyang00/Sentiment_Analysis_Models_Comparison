{
 "cells": [
  {
   "cell_type": "markdown",
   "metadata": {},
   "source": [
    "# Sentiment analysis with deep learning: \n",
    "1. ### Recurrent Neural Network; \n",
    "2. ### Long Short Term Memory"
   ]
  },
  {
   "cell_type": "code",
   "execution_count": 1,
   "metadata": {},
   "outputs": [
    {
     "name": "stderr",
     "output_type": "stream",
     "text": [
      "2024-02-04 18:55:39.191627: I external/local_tsl/tsl/cuda/cudart_stub.cc:31] Could not find cuda drivers on your machine, GPU will not be used.\n",
      "2024-02-04 18:55:39.228564: E external/local_xla/xla/stream_executor/cuda/cuda_dnn.cc:9261] Unable to register cuDNN factory: Attempting to register factory for plugin cuDNN when one has already been registered\n",
      "2024-02-04 18:55:39.228593: E external/local_xla/xla/stream_executor/cuda/cuda_fft.cc:607] Unable to register cuFFT factory: Attempting to register factory for plugin cuFFT when one has already been registered\n",
      "2024-02-04 18:55:39.229573: E external/local_xla/xla/stream_executor/cuda/cuda_blas.cc:1515] Unable to register cuBLAS factory: Attempting to register factory for plugin cuBLAS when one has already been registered\n",
      "2024-02-04 18:55:39.235349: I external/local_tsl/tsl/cuda/cudart_stub.cc:31] Could not find cuda drivers on your machine, GPU will not be used.\n",
      "2024-02-04 18:55:39.236106: I tensorflow/core/platform/cpu_feature_guard.cc:182] This TensorFlow binary is optimized to use available CPU instructions in performance-critical operations.\n",
      "To enable the following instructions: AVX2 FMA, in other operations, rebuild TensorFlow with the appropriate compiler flags.\n",
      "2024-02-04 18:55:40.185031: W tensorflow/compiler/tf2tensorrt/utils/py_utils.cc:38] TF-TRT Warning: Could not find TensorRT\n"
     ]
    },
    {
     "data": {
      "text/html": [
       "<div>\n",
       "<style scoped>\n",
       "    .dataframe tbody tr th:only-of-type {\n",
       "        vertical-align: middle;\n",
       "    }\n",
       "\n",
       "    .dataframe tbody tr th {\n",
       "        vertical-align: top;\n",
       "    }\n",
       "\n",
       "    .dataframe thead th {\n",
       "        text-align: right;\n",
       "    }\n",
       "</style>\n",
       "<table border=\"1\" class=\"dataframe\">\n",
       "  <thead>\n",
       "    <tr style=\"text-align: right;\">\n",
       "      <th></th>\n",
       "      <th>Review</th>\n",
       "      <th>Rating</th>\n",
       "      <th>label</th>\n",
       "    </tr>\n",
       "  </thead>\n",
       "  <tbody>\n",
       "    <tr>\n",
       "      <th>0</th>\n",
       "      <td>nice hotel expensive parking got good deal sta...</td>\n",
       "      <td>4</td>\n",
       "      <td>Positive</td>\n",
       "    </tr>\n",
       "    <tr>\n",
       "      <th>1</th>\n",
       "      <td>ok nothing special charge diamond member hilto...</td>\n",
       "      <td>2</td>\n",
       "      <td>Negative</td>\n",
       "    </tr>\n",
       "    <tr>\n",
       "      <th>2</th>\n",
       "      <td>nice rooms not 4* experience hotel monaco seat...</td>\n",
       "      <td>3</td>\n",
       "      <td>Neutral</td>\n",
       "    </tr>\n",
       "    <tr>\n",
       "      <th>3</th>\n",
       "      <td>unique, great stay, wonderful time hotel monac...</td>\n",
       "      <td>5</td>\n",
       "      <td>Positive</td>\n",
       "    </tr>\n",
       "    <tr>\n",
       "      <th>4</th>\n",
       "      <td>great stay great stay, went seahawk game aweso...</td>\n",
       "      <td>5</td>\n",
       "      <td>Positive</td>\n",
       "    </tr>\n",
       "    <tr>\n",
       "      <th>5</th>\n",
       "      <td>love monaco staff husband stayed hotel crazy w...</td>\n",
       "      <td>5</td>\n",
       "      <td>Positive</td>\n",
       "    </tr>\n",
       "    <tr>\n",
       "      <th>6</th>\n",
       "      <td>cozy stay rainy city, husband spent 7 nights m...</td>\n",
       "      <td>5</td>\n",
       "      <td>Positive</td>\n",
       "    </tr>\n",
       "    <tr>\n",
       "      <th>7</th>\n",
       "      <td>excellent staff, housekeeping quality hotel ch...</td>\n",
       "      <td>4</td>\n",
       "      <td>Positive</td>\n",
       "    </tr>\n",
       "    <tr>\n",
       "      <th>8</th>\n",
       "      <td>hotel stayed hotel monaco cruise, rooms genero...</td>\n",
       "      <td>5</td>\n",
       "      <td>Positive</td>\n",
       "    </tr>\n",
       "    <tr>\n",
       "      <th>9</th>\n",
       "      <td>excellent stayed hotel monaco past w/e delight...</td>\n",
       "      <td>5</td>\n",
       "      <td>Positive</td>\n",
       "    </tr>\n",
       "  </tbody>\n",
       "</table>\n",
       "</div>"
      ],
      "text/plain": [
       "                                              Review  Rating     label\n",
       "0  nice hotel expensive parking got good deal sta...       4  Positive\n",
       "1  ok nothing special charge diamond member hilto...       2  Negative\n",
       "2  nice rooms not 4* experience hotel monaco seat...       3   Neutral\n",
       "3  unique, great stay, wonderful time hotel monac...       5  Positive\n",
       "4  great stay great stay, went seahawk game aweso...       5  Positive\n",
       "5  love monaco staff husband stayed hotel crazy w...       5  Positive\n",
       "6  cozy stay rainy city, husband spent 7 nights m...       5  Positive\n",
       "7  excellent staff, housekeeping quality hotel ch...       4  Positive\n",
       "8  hotel stayed hotel monaco cruise, rooms genero...       5  Positive\n",
       "9  excellent stayed hotel monaco past w/e delight...       5  Positive"
      ]
     },
     "execution_count": 1,
     "metadata": {},
     "output_type": "execute_result"
    }
   ],
   "source": [
    "import pandas as pd \n",
    "from src.data_processing import Text_processor\n",
    "\n",
    "df = pd.read_csv(\"tripadvisor_hotel_reviews.csv\")\n",
    "\n",
    "# convert the continous rating variable to discrete categories\n",
    "df[\"label\"] = df[\"Rating\"].apply(Text_processor.labelling)\n",
    "df.head(10)"
   ]
  },
  {
   "cell_type": "markdown",
   "metadata": {},
   "source": [
    "### Exploratory Data Analysis\n",
    "In this section some preliminary analysis on the dataset feature and on the its variables will be carried out: \n",
    "1. plots will be saved in the plot folder; \n",
    "2. Summary statistics will be saved in the EDA.txt file"
   ]
  },
  {
   "cell_type": "code",
   "execution_count": 2,
   "metadata": {},
   "outputs": [
    {
     "name": "stdout",
     "output_type": "stream",
     "text": [
      "<class 'pandas.core.frame.DataFrame'>\n",
      "RangeIndex: 20491 entries, 0 to 20490\n",
      "Data columns (total 3 columns):\n",
      " #   Column  Non-Null Count  Dtype \n",
      "---  ------  --------------  ----- \n",
      " 0   Review  20491 non-null  object\n",
      " 1   Rating  20491 non-null  int64 \n",
      " 2   label   20491 non-null  object\n",
      "dtypes: int64(1), object(2)\n",
      "memory usage: 480.4+ KB\n",
      "Plot saved at: /home/ziyangfu/Code/Sentiment_Analysis_Models_Comparison/src/../plot/summary_statistics_label.html\n",
      "Plot saved at: /home/ziyangfu/Code/Sentiment_Analysis_Models_Comparison/src/../plot/summary_statistics_reviews_lenght.html\n",
      "Plot saved at: /home/ziyangfu/Code/Sentiment_Analysis_Models_Comparison/src/../plot/scatterplot.html\n"
     ]
    }
   ],
   "source": [
    "from src.EDA import EDA\n",
    "\n",
    "eda = EDA(df)\n",
    "\n",
    "eda_file = 'EDA.txt'\n",
    "review = 'Review'\n",
    "rating = 'label'\n",
    "\n",
    "# Information about the dataset \n",
    "eda.dataset_info(eda_file)\n",
    "# information about the label colum\n",
    "eda.summary_statistics(rating, eda_file)\n",
    "# Investigating possible relationships between reviews lenght and the rating\n",
    "eda.variables_relationship(review, rating, eda_file)\n"
   ]
  },
  {
   "cell_type": "markdown",
   "metadata": {},
   "source": [
    "### Text processing: \n",
    "prepare and clean the text data before feeding it into a sentiment analysis model. These are the step through which the reviews will undergo: \n",
    "1. Text Lowercasing;\n",
    "2. Tokenization: break the text into individual words or tokens;\n",
    "3. Removing Punctuation and Stopwords; \n",
    "4. Lemmatization:reduce words to their root or base form; \n",
    "5. TF-IDF Vectorization: represent each review as a vector based on the importance of words. "
   ]
  },
  {
   "cell_type": "code",
   "execution_count": 3,
   "metadata": {},
   "outputs": [
    {
     "name": "stderr",
     "output_type": "stream",
     "text": [
      "/home/ziyangfu/Code/Sentiment_Analysis_Models_Comparison/Sentiment/lib/python3.10/site-packages/numpy/core/fromnumeric.py:59: FutureWarning:\n",
      "\n",
      "'DataFrame.swapaxes' is deprecated and will be removed in a future version. Please use 'DataFrame.transpose' instead.\n",
      "\n"
     ]
    },
    {
     "name": "stdout",
     "output_type": "stream",
     "text": [
      "Chunk 1 has been processed\n",
      "Chunk 2 has been processed\n",
      "Chunk 0 has been processed\n",
      "Chunk 3 has been processed\n"
     ]
    },
    {
     "data": {
      "text/html": [
       "<div>\n",
       "<style scoped>\n",
       "    .dataframe tbody tr th:only-of-type {\n",
       "        vertical-align: middle;\n",
       "    }\n",
       "\n",
       "    .dataframe tbody tr th {\n",
       "        vertical-align: top;\n",
       "    }\n",
       "\n",
       "    .dataframe thead th {\n",
       "        text-align: right;\n",
       "    }\n",
       "</style>\n",
       "<table border=\"1\" class=\"dataframe\">\n",
       "  <thead>\n",
       "    <tr style=\"text-align: right;\">\n",
       "      <th></th>\n",
       "      <th>Review</th>\n",
       "      <th>Rating</th>\n",
       "      <th>label</th>\n",
       "      <th>reviews_lenght</th>\n",
       "    </tr>\n",
       "  </thead>\n",
       "  <tbody>\n",
       "    <tr>\n",
       "      <th>0</th>\n",
       "      <td>nice hotel expensive park get good deal stay h...</td>\n",
       "      <td>4</td>\n",
       "      <td>Positive</td>\n",
       "      <td>593</td>\n",
       "    </tr>\n",
       "    <tr>\n",
       "      <th>1</th>\n",
       "      <td>ok nothing special charge diamond member hilto...</td>\n",
       "      <td>2</td>\n",
       "      <td>Negative</td>\n",
       "      <td>1689</td>\n",
       "    </tr>\n",
       "    <tr>\n",
       "      <th>2</th>\n",
       "      <td>nice room 4 experience hotel monaco seattle go...</td>\n",
       "      <td>3</td>\n",
       "      <td>Neutral</td>\n",
       "      <td>1427</td>\n",
       "    </tr>\n",
       "    <tr>\n",
       "      <th>3</th>\n",
       "      <td>unique great stay wonderful time hotel monaco ...</td>\n",
       "      <td>5</td>\n",
       "      <td>Positive</td>\n",
       "      <td>600</td>\n",
       "    </tr>\n",
       "    <tr>\n",
       "      <th>4</th>\n",
       "      <td>great stay great stay go seahawk game awesome ...</td>\n",
       "      <td>5</td>\n",
       "      <td>Positive</td>\n",
       "      <td>1281</td>\n",
       "    </tr>\n",
       "    <tr>\n",
       "      <th>5</th>\n",
       "      <td>love monaco staff husband stay hotel crazy wee...</td>\n",
       "      <td>5</td>\n",
       "      <td>Positive</td>\n",
       "      <td>1002</td>\n",
       "    </tr>\n",
       "    <tr>\n",
       "      <th>6</th>\n",
       "      <td>cozy stay rainy city husband spend 7 nights mo...</td>\n",
       "      <td>5</td>\n",
       "      <td>Positive</td>\n",
       "      <td>748</td>\n",
       "    </tr>\n",
       "    <tr>\n",
       "      <th>7</th>\n",
       "      <td>excellent staff housekeep quality hotel chock ...</td>\n",
       "      <td>4</td>\n",
       "      <td>Positive</td>\n",
       "      <td>597</td>\n",
       "    </tr>\n",
       "    <tr>\n",
       "      <th>8</th>\n",
       "      <td>hotel stay hotel monaco cruise room generous d...</td>\n",
       "      <td>5</td>\n",
       "      <td>Positive</td>\n",
       "      <td>419</td>\n",
       "    </tr>\n",
       "    <tr>\n",
       "      <th>9</th>\n",
       "      <td>excellent stay hotel monaco past delight recep...</td>\n",
       "      <td>5</td>\n",
       "      <td>Positive</td>\n",
       "      <td>271</td>\n",
       "    </tr>\n",
       "  </tbody>\n",
       "</table>\n",
       "</div>"
      ],
      "text/plain": [
       "                                              Review  Rating     label  \\\n",
       "0  nice hotel expensive park get good deal stay h...       4  Positive   \n",
       "1  ok nothing special charge diamond member hilto...       2  Negative   \n",
       "2  nice room 4 experience hotel monaco seattle go...       3   Neutral   \n",
       "3  unique great stay wonderful time hotel monaco ...       5  Positive   \n",
       "4  great stay great stay go seahawk game awesome ...       5  Positive   \n",
       "5  love monaco staff husband stay hotel crazy wee...       5  Positive   \n",
       "6  cozy stay rainy city husband spend 7 nights mo...       5  Positive   \n",
       "7  excellent staff housekeep quality hotel chock ...       4  Positive   \n",
       "8  hotel stay hotel monaco cruise room generous d...       5  Positive   \n",
       "9  excellent stay hotel monaco past delight recep...       5  Positive   \n",
       "\n",
       "   reviews_lenght  \n",
       "0             593  \n",
       "1            1689  \n",
       "2            1427  \n",
       "3             600  \n",
       "4            1281  \n",
       "5            1002  \n",
       "6             748  \n",
       "7             597  \n",
       "8             419  \n",
       "9             271  "
      ]
     },
     "execution_count": 3,
     "metadata": {},
     "output_type": "execute_result"
    }
   ],
   "source": [
    "import numpy as np\n",
    "\n",
    "num_parts = 4\n",
    "df_chunks = np.array_split(df, num_parts)\n",
    "\n",
    "cleaned_df = Text_processor.parallel_text_cleaning(df_chunks)\n",
    "cleaned_df.head(10)"
   ]
  },
  {
   "cell_type": "markdown",
   "metadata": {},
   "source": [
    "### Word Embeddings: feed pretrained word embeddings as vectors to our deep learning models"
   ]
  },
  {
   "cell_type": "code",
   "execution_count": 4,
   "metadata": {},
   "outputs": [],
   "source": [
    "# Importing pretrained word embeddings\n",
    "\n",
    "import requests\n",
    "import zipfile\n",
    "\n",
    "#url = \"http://downloads.cs.stanford.edu/nlp/data/glove.6B.zip\" \n",
    "#response = requests.get(url)\n",
    "\n",
    "#with open(\"glove.6B.zip\", \"wb\") as f:\n",
    "    #f.write(response.content)\n",
    "\n",
    "zip_file_path = \"glove.6B.zip\"\n",
    "# directory where to extract the contents (current working directory)\n",
    "extracted_dir = \".\"\n",
    "\n",
    "with zipfile.ZipFile(zip_file_path, 'r') as zip_ref:\n",
    "    # Extract all the contents into the target directory\n",
    "    zip_ref.extractall(extracted_dir)\n",
    "\n",
    "\n",
    "words_embeddings = dict()\n",
    "# Explicitly specify the encoding as 'utf-8'\n",
    "with open('glove.6B.50d.txt', 'r', encoding='utf-8') as f:\n",
    "    for line in f.readlines():\n",
    "        line = line.split(' ')\n",
    "        try:\n",
    "            words_embeddings[line[0]] = np.array(line[1:], dtype=float)\n",
    "        except Exception as e:\n",
    "            # Print the exception for debugging purposes\n",
    "            print(f\"Error processing line: {line}. Exception: {e}\")\n",
    "            continue"
   ]
  },
  {
   "cell_type": "code",
   "execution_count": 5,
   "metadata": {},
   "outputs": [
    {
     "data": {
      "text/html": [
       "<div>\n",
       "<style scoped>\n",
       "    .dataframe tbody tr th:only-of-type {\n",
       "        vertical-align: middle;\n",
       "    }\n",
       "\n",
       "    .dataframe tbody tr th {\n",
       "        vertical-align: top;\n",
       "    }\n",
       "\n",
       "    .dataframe thead th {\n",
       "        text-align: right;\n",
       "    }\n",
       "</style>\n",
       "<table border=\"1\" class=\"dataframe\">\n",
       "  <thead>\n",
       "    <tr style=\"text-align: right;\">\n",
       "      <th></th>\n",
       "      <th>Review</th>\n",
       "      <th>Rating</th>\n",
       "      <th>label</th>\n",
       "      <th>reviews_lenght</th>\n",
       "    </tr>\n",
       "  </thead>\n",
       "  <tbody>\n",
       "    <tr>\n",
       "      <th>0</th>\n",
       "      <td>[[0.20189, 0.80606, -1.1281, -0.59593, 0.52756...</td>\n",
       "      <td>4</td>\n",
       "      <td>2</td>\n",
       "      <td>593</td>\n",
       "    </tr>\n",
       "    <tr>\n",
       "      <th>1</th>\n",
       "      <td>[[-0.53646, -0.072432, 0.24182, 0.099021, 0.18...</td>\n",
       "      <td>2</td>\n",
       "      <td>0</td>\n",
       "      <td>1689</td>\n",
       "    </tr>\n",
       "    <tr>\n",
       "      <th>2</th>\n",
       "      <td>[[0.20189, 0.80606, -1.1281, -0.59593, 0.52756...</td>\n",
       "      <td>3</td>\n",
       "      <td>1</td>\n",
       "      <td>1427</td>\n",
       "    </tr>\n",
       "    <tr>\n",
       "      <th>3</th>\n",
       "      <td>[[0.53801, 1.0704, -0.87108, 0.7013, 1.0154, 0...</td>\n",
       "      <td>5</td>\n",
       "      <td>2</td>\n",
       "      <td>600</td>\n",
       "    </tr>\n",
       "    <tr>\n",
       "      <th>4</th>\n",
       "      <td>[[-0.026567, 1.3357, -1.028, -0.3729, 0.52012,...</td>\n",
       "      <td>5</td>\n",
       "      <td>2</td>\n",
       "      <td>1281</td>\n",
       "    </tr>\n",
       "    <tr>\n",
       "      <th>5</th>\n",
       "      <td>[[-0.13886, 1.1401, -0.85212, -0.29212, 0.7553...</td>\n",
       "      <td>5</td>\n",
       "      <td>2</td>\n",
       "      <td>1002</td>\n",
       "    </tr>\n",
       "    <tr>\n",
       "      <th>6</th>\n",
       "      <td>[[0.42559, 0.62546, -1.2205, 0.11198, 0.43133,...</td>\n",
       "      <td>5</td>\n",
       "      <td>2</td>\n",
       "      <td>748</td>\n",
       "    </tr>\n",
       "    <tr>\n",
       "      <th>7</th>\n",
       "      <td>[[-0.40431, 0.78002, -0.67538, -0.097149, 0.54...</td>\n",
       "      <td>4</td>\n",
       "      <td>2</td>\n",
       "      <td>597</td>\n",
       "    </tr>\n",
       "    <tr>\n",
       "      <th>8</th>\n",
       "      <td>[[1.6098, 1.0294, -0.50544, 0.40047, 0.38814, ...</td>\n",
       "      <td>5</td>\n",
       "      <td>2</td>\n",
       "      <td>419</td>\n",
       "    </tr>\n",
       "    <tr>\n",
       "      <th>9</th>\n",
       "      <td>[[-0.40431, 0.78002, -0.67538, -0.097149, 0.54...</td>\n",
       "      <td>5</td>\n",
       "      <td>2</td>\n",
       "      <td>271</td>\n",
       "    </tr>\n",
       "  </tbody>\n",
       "</table>\n",
       "</div>"
      ],
      "text/plain": [
       "                                              Review  Rating  label  \\\n",
       "0  [[0.20189, 0.80606, -1.1281, -0.59593, 0.52756...       4      2   \n",
       "1  [[-0.53646, -0.072432, 0.24182, 0.099021, 0.18...       2      0   \n",
       "2  [[0.20189, 0.80606, -1.1281, -0.59593, 0.52756...       3      1   \n",
       "3  [[0.53801, 1.0704, -0.87108, 0.7013, 1.0154, 0...       5      2   \n",
       "4  [[-0.026567, 1.3357, -1.028, -0.3729, 0.52012,...       5      2   \n",
       "5  [[-0.13886, 1.1401, -0.85212, -0.29212, 0.7553...       5      2   \n",
       "6  [[0.42559, 0.62546, -1.2205, 0.11198, 0.43133,...       5      2   \n",
       "7  [[-0.40431, 0.78002, -0.67538, -0.097149, 0.54...       4      2   \n",
       "8  [[1.6098, 1.0294, -0.50544, 0.40047, 0.38814, ...       5      2   \n",
       "9  [[-0.40431, 0.78002, -0.67538, -0.097149, 0.54...       5      2   \n",
       "\n",
       "   reviews_lenght  \n",
       "0             593  \n",
       "1            1689  \n",
       "2            1427  \n",
       "3             600  \n",
       "4            1281  \n",
       "5            1002  \n",
       "6             748  \n",
       "7             597  \n",
       "8             419  \n",
       "9             271  "
      ]
     },
     "execution_count": 5,
     "metadata": {},
     "output_type": "execute_result"
    }
   ],
   "source": [
    "from src.data_processing import Embeddings_processor\n",
    "\n",
    "# mapping sentences to their respective embeddings \n",
    "embeddings_proc = Embeddings_processor(words_embeddings)\n",
    "cleaned_df['Review'] = cleaned_df['Review'].apply(lambda x: embeddings_proc.word_vectors(x))\n",
    "\n",
    "# fill empty sentences\n",
    "for message in cleaned_df['Review']:\n",
    "    if message.shape[0] == 0:\n",
    "        message = np.zeros(shape=(1, 50))\n",
    "\n",
    "# map the labels to integers for one-hot encoding \n",
    "label_mapping = {'Positive': 2, 'Negative': 0, \"Neutral\":1}\n",
    "cleaned_df['label'] = cleaned_df['label'].map(label_mapping)\n",
    "\n",
    "cleaned_df.head(10)\n"
   ]
  },
  {
   "cell_type": "markdown",
   "metadata": {},
   "source": [
    "### Undersampling for classes' imbalance"
   ]
  },
  {
   "cell_type": "code",
   "execution_count": 6,
   "metadata": {},
   "outputs": [
    {
     "name": "stdout",
     "output_type": "stream",
     "text": [
      "Class distribution before undersampling: Counter({2: 15093, 0: 3214, 1: 2184})\n",
      "Class distribution after undersampling: Counter({0: 2184, 1: 2184, 2: 2184})\n"
     ]
    }
   ],
   "source": [
    "from collections import Counter\n",
    "from imblearn.under_sampling import RandomUnderSampler\n",
    "\n",
    "# classes distribution \n",
    "counter_before = Counter(cleaned_df[\"label\"])\n",
    "print(\"Class distribution before undersampling:\", counter_before)\n",
    "\n",
    "# Undersample the majority classes\n",
    "undersampler = RandomUnderSampler(random_state=42)\n",
    "\n",
    "# Reshape the \"Review\" column to a 2D array\n",
    "X = cleaned_df['Review'].values.reshape(-1, 1)\n",
    "\n",
    "# Apply the undersampler\n",
    "X_resampled, y_resampled = undersampler.fit_resample(X, cleaned_df[\"label\"])\n",
    "\n",
    "# Display class distribution after undersampling\n",
    "counter_after = Counter(y_resampled)\n",
    "print(\"Class distribution after undersampling:\", counter_after)"
   ]
  },
  {
   "cell_type": "code",
   "execution_count": 7,
   "metadata": {},
   "outputs": [],
   "source": [
    "# reshape back to its original form \n",
    "X_original_shape = X_resampled.reshape(-1,)\n"
   ]
  },
  {
   "cell_type": "markdown",
   "metadata": {},
   "source": [
    "### Shuffle the all_sequences_vector and y_resampled\n",
    "These 2 variables clusters in subsequent rows the observations belonging to the same class "
   ]
  },
  {
   "cell_type": "code",
   "execution_count": 8,
   "metadata": {},
   "outputs": [
    {
     "name": "stdout",
     "output_type": "stream",
     "text": [
      "pre-shuffled dataframe\n",
      "                                    review_embedding  label\n",
      "0  [[0.54623, 1.2042, -1.1288, -0.1325, 0.95529, ...      0\n",
      "1  [[-0.026567, 1.3357, -1.028, -0.3729, 0.52012,...      0\n",
      "2  [[-0.1166, -0.010887, 0.044444, -0.39349, 0.77...      0\n",
      "3  [[0.80165, -0.36917, -0.38166, -0.090699, -0.4...      0\n",
      "4  [[0.66845, -0.35565, 0.73838, -0.7142, 0.75459...      0\n",
      "5  [[0.13409, 0.68926, 0.45086, 0.052204, -0.3060...      0\n",
      "6  [[-0.53819, -0.40788, -0.1963, -0.80821, 0.077...      0\n",
      "7  [[1.1303, 0.28035, 0.15825, -0.36373, 0.63884,...      0\n",
      "8  [[0.23592, -0.073733, 0.21613, -0.57797, 0.147...      0\n",
      "9  [[0.44285, 0.31399, 0.20969, -0.39017, 0.37531...      0\n",
      "post-shuffled dataframe\n",
      "                                    review_embedding  label\n",
      "0  [[-0.88412, -0.072734, -0.8397, -0.12462, 0.74...      0\n",
      "1  [[-0.32313, 0.89266, 0.54943, 0.59294, 0.56707...      0\n",
      "2  [[0.4901, -0.060918, -0.28137, 0.49583, -0.311...      0\n",
      "3  [[-0.026567, 1.3357, -1.028, -0.3729, 0.52012,...      0\n",
      "4  [[0.23302, 0.45885, 0.26602, 0.038204, 0.56694...      2\n",
      "5  [[0.3333, 0.30612, -0.63572, 0.051507, 0.78602...      2\n",
      "6  [[0.51518, 0.80125, -0.13731, -0.472, 1.0321, ...      1\n",
      "7  [[-0.026567, 1.3357, -1.028, -0.3729, 0.52012,...      2\n",
      "8  [[0.52735, -0.61475, -0.42524, -0.88306, -0.15...      1\n",
      "9  [[0.20189, 0.80606, -1.1281, -0.59593, 0.52756...      1\n"
     ]
    }
   ],
   "source": [
    "new_df = pd.DataFrame({\n",
    "    'review_embedding': [embedding for embedding in X_original_shape],\n",
    "    'label': y_resampled\n",
    "})\n",
    "\n",
    "print(\"pre-shuffled dataframe\")\n",
    "print(new_df.head(10))\n",
    "\n",
    "shuffled_df = new_df.sample(frac=1, random_state=1)\n",
    "shuffled_df.reset_index(drop=True, inplace=True)\n",
    "print(\"post-shuffled dataframe\")\n",
    "print(shuffled_df.head(10))"
   ]
  },
  {
   "cell_type": "markdown",
   "metadata": {},
   "source": [
    "### Splitting into training, validation and test set "
   ]
  },
  {
   "cell_type": "code",
   "execution_count": 9,
   "metadata": {},
   "outputs": [
    {
     "name": "stdout",
     "output_type": "stream",
     "text": [
      "4586 983 983\n",
      "4586 983 983\n"
     ]
    }
   ],
   "source": [
    "X_shuffled = shuffled_df[\"review_embedding\"].values\n",
    "y_shuffled = shuffled_df[\"label\"].values\n",
    "\n",
    "embeddings_vectors  = [embedding for embedding in X_shuffled]\n",
    "\n",
    "split_index_1 = int(len(embeddings_vectors) * 0.7)\n",
    "split_index_2 = int(len(embeddings_vectors) * 0.85)\n",
    "X_train, X_val, X_test = embeddings_vectors[:split_index_1], embeddings_vectors[split_index_1:split_index_2], embeddings_vectors[split_index_2:]\n",
    "y_train, y_val, y_test = y_shuffled[:split_index_1], y_shuffled[split_index_1:split_index_2], y_shuffled[split_index_2:]\n",
    "\n",
    "print(len(X_train), len(X_val), len(X_test))\n",
    "print(len(y_train), len(y_val), len(y_test))\n"
   ]
  },
  {
   "cell_type": "markdown",
   "metadata": {},
   "source": [
    "### Padding the input sentence arrays\n",
    "Recurrent neural networks (RNNs) and their variants process input data sequentially. \n",
    "\n",
    "In these models, each time step typically corresponds to an element in the input sequence. \n",
    "\n",
    "To apply batch processing efficiently, all sequences within a batch must have the same length, requiring padding for shorter sequences."
   ]
  },
  {
   "cell_type": "code",
   "execution_count": 10,
   "metadata": {},
   "outputs": [
    {
     "name": "stdout",
     "output_type": "stream",
     "text": [
      "Sequences maximum lenght: 1807\n"
     ]
    }
   ],
   "source": [
    "# determine the maximum lenght of the input sequences\n",
    "\n",
    "sequence_lengths = [len(sequence) for sequence in X_train]\n",
    "max_length = max(sequence_lengths)\n",
    "print(f\"Sequences maximum lenght: {max_length}\")"
   ]
  },
  {
   "cell_type": "code",
   "execution_count": 11,
   "metadata": {},
   "outputs": [
    {
     "name": "stderr",
     "output_type": "stream",
     "text": [
      "Padding Progress:   3%|▎         | 144/4586 [00:01<00:34, 127.04it/s]\n",
      "Padding Progress:   3%|▎         | 31/983 [00:00<00:06, 142.82it/s]\n",
      "Padding Progress:   3%|▎         | 31/983 [00:00<00:06, 147.52it/s]\n"
     ]
    }
   ],
   "source": [
    "# Padding X_train, X_val and X_test \n",
    "X_train = Embeddings_processor.vectors_padding(X_train, max_length)\n",
    "X_val = Embeddings_processor.vectors_padding(X_val, max_length)\n",
    "X_test  = Embeddings_processor.vectors_padding(X_test, max_length)"
   ]
  },
  {
   "cell_type": "code",
   "execution_count": 12,
   "metadata": {},
   "outputs": [],
   "source": [
    "# One hot encode the labels \n",
    "enc_y_train, enc_y_val, enc_y_test = Embeddings_processor.label_encoder(y_train, y_val, y_test)"
   ]
  },
  {
   "cell_type": "markdown",
   "metadata": {},
   "source": [
    "# Recurrent Neural Network"
   ]
  },
  {
   "cell_type": "code",
   "execution_count": 13,
   "metadata": {},
   "outputs": [
    {
     "name": "stderr",
     "output_type": "stream",
     "text": [
      "2024-02-04 18:57:42.348321: I external/local_xla/xla/stream_executor/cuda/cuda_executor.cc:901] successful NUMA node read from SysFS had negative value (-1), but there must be at least one NUMA node, so returning NUMA node zero. See more at https://github.com/torvalds/linux/blob/v6.0/Documentation/ABI/testing/sysfs-bus-pci#L344-L355\n",
      "2024-02-04 18:57:42.354359: W tensorflow/core/common_runtime/gpu/gpu_device.cc:2256] Cannot dlopen some GPU libraries. Please make sure the missing libraries mentioned above are installed properly if you would like to use GPU. Follow the guide at https://www.tensorflow.org/install/gpu for how to download and setup the required libraries for your platform.\n",
      "Skipping registering GPU devices...\n"
     ]
    },
    {
     "name": "stdout",
     "output_type": "stream",
     "text": [
      "Epoch 1/15\n"
     ]
    },
    {
     "name": "stderr",
     "output_type": "stream",
     "text": [
      "2024-02-04 18:57:42.838048: W external/local_tsl/tsl/framework/cpu_allocator_impl.cc:83] Allocation of 1657380400 exceeds 10% of free system memory.\n"
     ]
    },
    {
     "name": "stdout",
     "output_type": "stream",
     "text": [
      "144/144 [==============================] - 28s 191ms/step - loss: 1.1016 - accuracy: 0.3297 - auc: 0.4929 - val_loss: 1.1007 - val_accuracy: 0.3286 - val_auc: 0.4906\n",
      "Epoch 2/15\n",
      "144/144 [==============================] - 30s 209ms/step - loss: 1.1002 - accuracy: 0.3271 - auc: 0.4952 - val_loss: 1.0977 - val_accuracy: 0.3540 - val_auc: 0.5170\n",
      "Epoch 3/15\n",
      "144/144 [==============================] - 24s 167ms/step - loss: 1.1001 - accuracy: 0.3190 - auc: 0.4932 - val_loss: 1.0984 - val_accuracy: 0.3540 - val_auc: 0.5137\n",
      "Epoch 4/15\n",
      "144/144 [==============================] - 24s 170ms/step - loss: 1.0996 - accuracy: 0.3299 - auc: 0.4991 - val_loss: 1.0987 - val_accuracy: 0.3327 - val_auc: 0.4997\n",
      "Epoch 5/15\n",
      "144/144 [==============================] - 25s 170ms/step - loss: 1.0991 - accuracy: 0.3210 - auc: 0.4935 - val_loss: 1.0987 - val_accuracy: 0.3174 - val_auc: 0.5008\n",
      "Epoch 6/15\n",
      "144/144 [==============================] - 24s 170ms/step - loss: 1.0991 - accuracy: 0.3295 - auc: 0.4956 - val_loss: 1.0984 - val_accuracy: 0.3469 - val_auc: 0.5108\n",
      "Epoch 7/15\n",
      "144/144 [==============================] - 25s 171ms/step - loss: 1.0991 - accuracy: 0.3367 - auc: 0.4946 - val_loss: 1.0987 - val_accuracy: 0.3530 - val_auc: 0.4959\n",
      "Epoch 8/15\n",
      "144/144 [==============================] - 28s 196ms/step - loss: 1.0992 - accuracy: 0.3345 - auc: 0.4963 - val_loss: 1.0995 - val_accuracy: 0.3276 - val_auc: 0.4879\n",
      "Epoch 9/15\n",
      "144/144 [==============================] - 31s 218ms/step - loss: 1.0990 - accuracy: 0.3365 - auc: 0.4926 - val_loss: 1.0985 - val_accuracy: 0.3154 - val_auc: 0.5105\n",
      "Epoch 10/15\n",
      "144/144 [==============================] - 25s 174ms/step - loss: 1.0989 - accuracy: 0.3284 - auc: 0.4950 - val_loss: 1.0988 - val_accuracy: 0.3245 - val_auc: 0.4944\n",
      "Epoch 11/15\n",
      "144/144 [==============================] - 25s 174ms/step - loss: 1.0989 - accuracy: 0.3286 - auc: 0.4989 - val_loss: 1.0989 - val_accuracy: 0.3184 - val_auc: 0.4845\n",
      "Epoch 12/15\n",
      "144/144 [==============================] - 25s 176ms/step - loss: 1.0989 - accuracy: 0.3225 - auc: 0.4951 - val_loss: 1.1001 - val_accuracy: 0.3154 - val_auc: 0.4957\n",
      "Epoch 13/15\n",
      "144/144 [==============================] - 28s 198ms/step - loss: 1.0989 - accuracy: 0.3367 - auc: 0.4955 - val_loss: 1.0989 - val_accuracy: 0.3266 - val_auc: 0.4845\n",
      "Epoch 14/15\n",
      "144/144 [==============================] - 28s 197ms/step - loss: 1.0988 - accuracy: 0.3356 - auc: 0.4960 - val_loss: 1.0987 - val_accuracy: 0.3266 - val_auc: 0.5020\n",
      "Epoch 15/15\n",
      "144/144 [==============================] - 25s 175ms/step - loss: 1.0987 - accuracy: 0.3277 - auc: 0.4953 - val_loss: 1.0986 - val_accuracy: 0.3266 - val_auc: 0.5105\n",
      "31/31 [==============================] - 2s 60ms/step\n"
     ]
    }
   ],
   "source": [
    "from src.deep_learning import RNN \n",
    "\n",
    "RNN_model = RNN(X_train, enc_y_train, X_val, enc_y_val, \n",
    "                X_test, enc_y_test)\n",
    "\n",
    "RNN_model.model_training(15)\n",
    "class_report, conf_matrix = RNN_model.model_evaluation(y_test)\n"
   ]
  },
  {
   "cell_type": "code",
   "execution_count": 14,
   "metadata": {},
   "outputs": [
    {
     "name": "stdout",
     "output_type": "stream",
     "text": [
      "              precision    recall  f1-score   support\n",
      "\n",
      "           0       0.33      0.99      0.50       326\n",
      "           1       0.00      0.00      1.00       308\n",
      "           2       1.00      0.00      0.00       349\n",
      "\n",
      "    accuracy                           0.33       983\n",
      "   macro avg       0.44      0.33      0.50       983\n",
      "weighted avg       0.46      0.33      0.48       983\n",
      "\n"
     ]
    },
    {
     "data": {
      "image/png": "[encoded data removed]",
      "text/plain": [
       "<Figure size 500x400 with 2 Axes>"
      ]
     },
     "metadata": {},
     "output_type": "display_data"
    }
   ],
   "source": [
    "import matplotlib.pyplot as plt\n",
    "import seaborn as sns\n",
    "\n",
    "print(class_report)\n",
    "plt.figure(figsize=(5,4))\n",
    "sns.heatmap(conf_matrix, annot=True)\n",
    "plt.title('Confusion Matrix')\n",
    "plt.ylabel('Actual Values')\n",
    "plt.xlabel('Predicted Values')\n",
    "plt.show()"
   ]
  },
  {
   "cell_type": "markdown",
   "metadata": {},
   "source": [
    "# Long Short Term Memory"
   ]
  },
  {
   "cell_type": "code",
   "execution_count": 15,
   "metadata": {},
   "outputs": [
    {
     "name": "stdout",
     "output_type": "stream",
     "text": [
      "Epoch 1/15\n"
     ]
    },
    {
     "name": "stderr",
     "output_type": "stream",
     "text": [
      "2024-02-04 19:04:24.983784: W external/local_tsl/tsl/framework/cpu_allocator_impl.cc:83] Allocation of 1657380400 exceeds 10% of free system memory.\n"
     ]
    },
    {
     "name": "stdout",
     "output_type": "stream",
     "text": [
      "144/144 [==============================] - 94s 646ms/step - loss: 1.0467 - accuracy: 0.4544 - auc: 0.6522 - val_loss: 0.9557 - val_accuracy: 0.5422 - val_auc: 0.7477\n",
      "Epoch 2/15\n",
      "144/144 [==============================] - 100s 694ms/step - loss: 0.8405 - accuracy: 0.6112 - auc: 0.8014 - val_loss: 0.8137 - val_accuracy: 0.6134 - val_auc: 0.8111\n",
      "Epoch 3/15\n",
      "144/144 [==============================] - 100s 696ms/step - loss: 0.7735 - accuracy: 0.6485 - auc: 0.8321 - val_loss: 0.7928 - val_accuracy: 0.6083 - val_auc: 0.8191\n",
      "Epoch 4/15\n",
      "144/144 [==============================] - 93s 649ms/step - loss: 0.7409 - accuracy: 0.6605 - auc: 0.8464 - val_loss: 0.7952 - val_accuracy: 0.6205 - val_auc: 0.8204\n",
      "Epoch 5/15\n",
      "144/144 [==============================] - 94s 653ms/step - loss: 0.7104 - accuracy: 0.6749 - auc: 0.8605 - val_loss: 0.7617 - val_accuracy: 0.6490 - val_auc: 0.8365\n",
      "Epoch 6/15\n",
      "144/144 [==============================] - 100s 692ms/step - loss: 0.6864 - accuracy: 0.6867 - auc: 0.8705 - val_loss: 0.7572 - val_accuracy: 0.6450 - val_auc: 0.8384\n",
      "Epoch 7/15\n",
      "144/144 [==============================] - 90s 624ms/step - loss: 0.6637 - accuracy: 0.7082 - auc: 0.8798 - val_loss: 0.7486 - val_accuracy: 0.6541 - val_auc: 0.8440\n",
      "Epoch 8/15\n",
      "144/144 [==============================] - 98s 682ms/step - loss: 0.6438 - accuracy: 0.7165 - auc: 0.8878 - val_loss: 0.7409 - val_accuracy: 0.6531 - val_auc: 0.8462\n",
      "Epoch 9/15\n",
      "144/144 [==============================] - 76s 526ms/step - loss: 0.6209 - accuracy: 0.7281 - auc: 0.8962 - val_loss: 0.7385 - val_accuracy: 0.6724 - val_auc: 0.8484\n",
      "Epoch 10/15\n",
      "144/144 [==============================] - 76s 530ms/step - loss: 0.6056 - accuracy: 0.7394 - auc: 0.9023 - val_loss: 0.7377 - val_accuracy: 0.6572 - val_auc: 0.8493\n",
      "Epoch 11/15\n",
      "144/144 [==============================] - 77s 532ms/step - loss: 0.5915 - accuracy: 0.7425 - auc: 0.9062 - val_loss: 0.7323 - val_accuracy: 0.6673 - val_auc: 0.8521\n",
      "Epoch 12/15\n",
      "144/144 [==============================] - 76s 529ms/step - loss: 0.5739 - accuracy: 0.7556 - auc: 0.9128 - val_loss: 0.7464 - val_accuracy: 0.6653 - val_auc: 0.8484\n",
      "Epoch 13/15\n",
      "144/144 [==============================] - 76s 528ms/step - loss: 0.5586 - accuracy: 0.7665 - auc: 0.9174 - val_loss: 0.7282 - val_accuracy: 0.6745 - val_auc: 0.8556\n",
      "Epoch 14/15\n",
      "144/144 [==============================] - 76s 527ms/step - loss: 0.5446 - accuracy: 0.7767 - auc: 0.9224 - val_loss: 0.7382 - val_accuracy: 0.6714 - val_auc: 0.8528\n",
      "Epoch 15/15\n",
      "144/144 [==============================] - 76s 525ms/step - loss: 0.5310 - accuracy: 0.7835 - auc: 0.9261 - val_loss: 0.7331 - val_accuracy: 0.6887 - val_auc: 0.8557\n",
      "31/31 [==============================] - 5s 157ms/step\n"
     ]
    }
   ],
   "source": [
    "from src.deep_learning import LSTM \n",
    "\n",
    "LSTM_model = LSTM(X_train, enc_y_train, X_val, enc_y_val, \n",
    "                X_test, enc_y_test)\n",
    "\n",
    "LSTM_model.model_training(15)\n",
    "class_report, conf_matrix = LSTM_model.model_evaluation(y_test)"
   ]
  },
  {
   "cell_type": "code",
   "execution_count": 16,
   "metadata": {},
   "outputs": [
    {
     "name": "stdout",
     "output_type": "stream",
     "text": [
      "              precision    recall  f1-score   support\n",
      "\n",
      "           0       0.73      0.68      0.70       326\n",
      "           1       0.52      0.55      0.54       308\n",
      "           2       0.76      0.77      0.76       349\n",
      "\n",
      "    accuracy                           0.67       983\n",
      "   macro avg       0.67      0.67      0.67       983\n",
      "weighted avg       0.67      0.67      0.67       983\n",
      "\n"
     ]
    },
    {
     "data": {
      "image/png": "[encoded data removed]",
      "text/plain": [
       "<Figure size 500x400 with 2 Axes>"
      ]
     },
     "metadata": {},
     "output_type": "display_data"
    }
   ],
   "source": [
    "print(class_report)\n",
    "plt.figure(figsize=(5,4))\n",
    "sns.heatmap(conf_matrix, annot=True)\n",
    "plt.title('Confusion Matrix')\n",
    "plt.ylabel('Actual Values')\n",
    "plt.xlabel('Predicted Values')\n",
    "plt.show()"
   ]
  }
 ],
 "metadata": {
  "kernelspec": {
   "display_name": "Sentiment",
   "language": "python",
   "name": "python3"
  },
  "language_info": {
   "codemirror_mode": {
    "name": "ipython",
    "version": 3
   },
   "file_extension": ".py",
   "mimetype": "text/x-python",
   "name": "python",
   "nbconvert_exporter": "python",
   "pygments_lexer": "ipython3",
   "version": "3.10.12"
  }
 },
 "nbformat": 4,
 "nbformat_minor": 2
}
