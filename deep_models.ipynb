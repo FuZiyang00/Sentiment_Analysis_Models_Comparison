{
 "cells": [
  {
   "cell_type": "markdown",
   "metadata": {},
   "source": [
    "# Sentiment analysis with deep learning: \n",
    "1. ### Recurrent Neural Network; \n",
    "2. ### Long Short Term Memory"
   ]
  },
  {
   "cell_type": "code",
   "execution_count": 1,
   "metadata": {},
   "outputs": [
    {
     "name": "stderr",
     "output_type": "stream",
     "text": [
      "2024-02-04 17:50:15.237867: I external/local_tsl/tsl/cuda/cudart_stub.cc:31] Could not find cuda drivers on your machine, GPU will not be used.\n",
      "2024-02-04 17:50:15.275832: E external/local_xla/xla/stream_executor/cuda/cuda_dnn.cc:9261] Unable to register cuDNN factory: Attempting to register factory for plugin cuDNN when one has already been registered\n",
      "2024-02-04 17:50:15.275858: E external/local_xla/xla/stream_executor/cuda/cuda_fft.cc:607] Unable to register cuFFT factory: Attempting to register factory for plugin cuFFT when one has already been registered\n",
      "2024-02-04 17:50:15.276848: E external/local_xla/xla/stream_executor/cuda/cuda_blas.cc:1515] Unable to register cuBLAS factory: Attempting to register factory for plugin cuBLAS when one has already been registered\n",
      "2024-02-04 17:50:15.282611: I external/local_tsl/tsl/cuda/cudart_stub.cc:31] Could not find cuda drivers on your machine, GPU will not be used.\n",
      "2024-02-04 17:50:15.283089: I tensorflow/core/platform/cpu_feature_guard.cc:182] This TensorFlow binary is optimized to use available CPU instructions in performance-critical operations.\n",
      "To enable the following instructions: AVX2 FMA, in other operations, rebuild TensorFlow with the appropriate compiler flags.\n",
      "2024-02-04 17:50:16.274679: W tensorflow/compiler/tf2tensorrt/utils/py_utils.cc:38] TF-TRT Warning: Could not find TensorRT\n"
     ]
    },
    {
     "data": {
      "text/html": [
       "<div>\n",
       "<style scoped>\n",
       "    .dataframe tbody tr th:only-of-type {\n",
       "        vertical-align: middle;\n",
       "    }\n",
       "\n",
       "    .dataframe tbody tr th {\n",
       "        vertical-align: top;\n",
       "    }\n",
       "\n",
       "    .dataframe thead th {\n",
       "        text-align: right;\n",
       "    }\n",
       "</style>\n",
       "<table border=\"1\" class=\"dataframe\">\n",
       "  <thead>\n",
       "    <tr style=\"text-align: right;\">\n",
       "      <th></th>\n",
       "      <th>Review</th>\n",
       "      <th>Rating</th>\n",
       "      <th>label</th>\n",
       "    </tr>\n",
       "  </thead>\n",
       "  <tbody>\n",
       "    <tr>\n",
       "      <th>0</th>\n",
       "      <td>nice hotel expensive parking got good deal sta...</td>\n",
       "      <td>4</td>\n",
       "      <td>Positive</td>\n",
       "    </tr>\n",
       "    <tr>\n",
       "      <th>1</th>\n",
       "      <td>ok nothing special charge diamond member hilto...</td>\n",
       "      <td>2</td>\n",
       "      <td>Negative</td>\n",
       "    </tr>\n",
       "    <tr>\n",
       "      <th>2</th>\n",
       "      <td>nice rooms not 4* experience hotel monaco seat...</td>\n",
       "      <td>3</td>\n",
       "      <td>Neutral</td>\n",
       "    </tr>\n",
       "    <tr>\n",
       "      <th>3</th>\n",
       "      <td>unique, great stay, wonderful time hotel monac...</td>\n",
       "      <td>5</td>\n",
       "      <td>Positive</td>\n",
       "    </tr>\n",
       "    <tr>\n",
       "      <th>4</th>\n",
       "      <td>great stay great stay, went seahawk game aweso...</td>\n",
       "      <td>5</td>\n",
       "      <td>Positive</td>\n",
       "    </tr>\n",
       "    <tr>\n",
       "      <th>5</th>\n",
       "      <td>love monaco staff husband stayed hotel crazy w...</td>\n",
       "      <td>5</td>\n",
       "      <td>Positive</td>\n",
       "    </tr>\n",
       "    <tr>\n",
       "      <th>6</th>\n",
       "      <td>cozy stay rainy city, husband spent 7 nights m...</td>\n",
       "      <td>5</td>\n",
       "      <td>Positive</td>\n",
       "    </tr>\n",
       "    <tr>\n",
       "      <th>7</th>\n",
       "      <td>excellent staff, housekeeping quality hotel ch...</td>\n",
       "      <td>4</td>\n",
       "      <td>Positive</td>\n",
       "    </tr>\n",
       "    <tr>\n",
       "      <th>8</th>\n",
       "      <td>hotel stayed hotel monaco cruise, rooms genero...</td>\n",
       "      <td>5</td>\n",
       "      <td>Positive</td>\n",
       "    </tr>\n",
       "    <tr>\n",
       "      <th>9</th>\n",
       "      <td>excellent stayed hotel monaco past w/e delight...</td>\n",
       "      <td>5</td>\n",
       "      <td>Positive</td>\n",
       "    </tr>\n",
       "  </tbody>\n",
       "</table>\n",
       "</div>"
      ],
      "text/plain": [
       "                                              Review  Rating     label\n",
       "0  nice hotel expensive parking got good deal sta...       4  Positive\n",
       "1  ok nothing special charge diamond member hilto...       2  Negative\n",
       "2  nice rooms not 4* experience hotel monaco seat...       3   Neutral\n",
       "3  unique, great stay, wonderful time hotel monac...       5  Positive\n",
       "4  great stay great stay, went seahawk game aweso...       5  Positive\n",
       "5  love monaco staff husband stayed hotel crazy w...       5  Positive\n",
       "6  cozy stay rainy city, husband spent 7 nights m...       5  Positive\n",
       "7  excellent staff, housekeeping quality hotel ch...       4  Positive\n",
       "8  hotel stayed hotel monaco cruise, rooms genero...       5  Positive\n",
       "9  excellent stayed hotel monaco past w/e delight...       5  Positive"
      ]
     },
     "execution_count": 1,
     "metadata": {},
     "output_type": "execute_result"
    }
   ],
   "source": [
    "import pandas as pd \n",
    "from src.data_processing import Text_processor\n",
    "\n",
    "df = pd.read_csv(\"tripadvisor_hotel_reviews.csv\")\n",
    "\n",
    "# convert the continous rating variable to discrete categories\n",
    "df[\"label\"] = df[\"Rating\"].apply(Text_processor.labelling)\n",
    "df.head(10)"
   ]
  },
  {
   "cell_type": "markdown",
   "metadata": {},
   "source": [
    "### Exploratory Data Analysis\n",
    "In this section some preliminary analysis on the dataset feature and on the its variables will be carried out: \n",
    "1. plots will be saved in the plot folder; \n",
    "2. Summary statistics will be saved in the EDA.txt file"
   ]
  },
  {
   "cell_type": "code",
   "execution_count": 2,
   "metadata": {},
   "outputs": [
    {
     "name": "stdout",
     "output_type": "stream",
     "text": [
      "<class 'pandas.core.frame.DataFrame'>\n",
      "RangeIndex: 20491 entries, 0 to 20490\n",
      "Data columns (total 3 columns):\n",
      " #   Column  Non-Null Count  Dtype \n",
      "---  ------  --------------  ----- \n",
      " 0   Review  20491 non-null  object\n",
      " 1   Rating  20491 non-null  int64 \n",
      " 2   label   20491 non-null  object\n",
      "dtypes: int64(1), object(2)\n",
      "memory usage: 480.4+ KB\n",
      "Plot saved at: /home/ziyangfu/Code/Sentiment_Analysis_Models_Comparison/src/../plot/summary_statistics_label.html\n",
      "Plot saved at: /home/ziyangfu/Code/Sentiment_Analysis_Models_Comparison/src/../plot/summary_statistics_reviews_lenght.html\n",
      "Plot saved at: /home/ziyangfu/Code/Sentiment_Analysis_Models_Comparison/src/../plot/scatterplot.html\n"
     ]
    }
   ],
   "source": [
    "from src.EDA import EDA\n",
    "\n",
    "eda = EDA(df)\n",
    "\n",
    "eda_file = 'EDA.txt'\n",
    "review = 'Review'\n",
    "rating = 'label'\n",
    "\n",
    "# Information about the dataset \n",
    "eda.dataset_info(eda_file)\n",
    "# information about the label colum\n",
    "eda.summary_statistics(rating, eda_file)\n",
    "# Investigating possible relationships between reviews lenght and the rating\n",
    "eda.variables_relationship(review, rating, eda_file)\n"
   ]
  },
  {
   "cell_type": "markdown",
   "metadata": {},
   "source": [
    "### Text processing: \n",
    "prepare and clean the text data before feeding it into a sentiment analysis model. These are the step through which the reviews will undergo: \n",
    "1. Text Lowercasing;\n",
    "2. Tokenization: break the text into individual words or tokens;\n",
    "3. Removing Punctuation and Stopwords; \n",
    "4. Lemmatization:reduce words to their root or base form; \n",
    "5. TF-IDF Vectorization: represent each review as a vector based on the importance of words. "
   ]
  },
  {
   "cell_type": "code",
   "execution_count": 3,
   "metadata": {},
   "outputs": [
    {
     "name": "stderr",
     "output_type": "stream",
     "text": [
      "/home/ziyangfu/Code/Sentiment_Analysis_Models_Comparison/Sentiment/lib/python3.10/site-packages/numpy/core/fromnumeric.py:59: FutureWarning:\n",
      "\n",
      "'DataFrame.swapaxes' is deprecated and will be removed in a future version. Please use 'DataFrame.transpose' instead.\n",
      "\n"
     ]
    },
    {
     "name": "stdout",
     "output_type": "stream",
     "text": [
      "Chunk 2 has been processed\n",
      "Chunk 1 has been processed\n",
      "Chunk 0 has been processed\n",
      "Chunk 3 has been processed\n"
     ]
    },
    {
     "data": {
      "text/html": [
       "<div>\n",
       "<style scoped>\n",
       "    .dataframe tbody tr th:only-of-type {\n",
       "        vertical-align: middle;\n",
       "    }\n",
       "\n",
       "    .dataframe tbody tr th {\n",
       "        vertical-align: top;\n",
       "    }\n",
       "\n",
       "    .dataframe thead th {\n",
       "        text-align: right;\n",
       "    }\n",
       "</style>\n",
       "<table border=\"1\" class=\"dataframe\">\n",
       "  <thead>\n",
       "    <tr style=\"text-align: right;\">\n",
       "      <th></th>\n",
       "      <th>Review</th>\n",
       "      <th>Rating</th>\n",
       "      <th>label</th>\n",
       "      <th>reviews_lenght</th>\n",
       "    </tr>\n",
       "  </thead>\n",
       "  <tbody>\n",
       "    <tr>\n",
       "      <th>0</th>\n",
       "      <td>nice hotel expensive park get good deal stay h...</td>\n",
       "      <td>4</td>\n",
       "      <td>Positive</td>\n",
       "      <td>593</td>\n",
       "    </tr>\n",
       "    <tr>\n",
       "      <th>1</th>\n",
       "      <td>ok nothing special charge diamond member hilto...</td>\n",
       "      <td>2</td>\n",
       "      <td>Negative</td>\n",
       "      <td>1689</td>\n",
       "    </tr>\n",
       "    <tr>\n",
       "      <th>2</th>\n",
       "      <td>nice room 4 experience hotel monaco seattle go...</td>\n",
       "      <td>3</td>\n",
       "      <td>Neutral</td>\n",
       "      <td>1427</td>\n",
       "    </tr>\n",
       "    <tr>\n",
       "      <th>3</th>\n",
       "      <td>unique great stay wonderful time hotel monaco ...</td>\n",
       "      <td>5</td>\n",
       "      <td>Positive</td>\n",
       "      <td>600</td>\n",
       "    </tr>\n",
       "    <tr>\n",
       "      <th>4</th>\n",
       "      <td>great stay great stay go seahawk game awesome ...</td>\n",
       "      <td>5</td>\n",
       "      <td>Positive</td>\n",
       "      <td>1281</td>\n",
       "    </tr>\n",
       "    <tr>\n",
       "      <th>5</th>\n",
       "      <td>love monaco staff husband stay hotel crazy wee...</td>\n",
       "      <td>5</td>\n",
       "      <td>Positive</td>\n",
       "      <td>1002</td>\n",
       "    </tr>\n",
       "    <tr>\n",
       "      <th>6</th>\n",
       "      <td>cozy stay rainy city husband spend 7 nights mo...</td>\n",
       "      <td>5</td>\n",
       "      <td>Positive</td>\n",
       "      <td>748</td>\n",
       "    </tr>\n",
       "    <tr>\n",
       "      <th>7</th>\n",
       "      <td>excellent staff housekeep quality hotel chock ...</td>\n",
       "      <td>4</td>\n",
       "      <td>Positive</td>\n",
       "      <td>597</td>\n",
       "    </tr>\n",
       "    <tr>\n",
       "      <th>8</th>\n",
       "      <td>hotel stay hotel monaco cruise room generous d...</td>\n",
       "      <td>5</td>\n",
       "      <td>Positive</td>\n",
       "      <td>419</td>\n",
       "    </tr>\n",
       "    <tr>\n",
       "      <th>9</th>\n",
       "      <td>excellent stay hotel monaco past delight recep...</td>\n",
       "      <td>5</td>\n",
       "      <td>Positive</td>\n",
       "      <td>271</td>\n",
       "    </tr>\n",
       "  </tbody>\n",
       "</table>\n",
       "</div>"
      ],
      "text/plain": [
       "                                              Review  Rating     label  \\\n",
       "0  nice hotel expensive park get good deal stay h...       4  Positive   \n",
       "1  ok nothing special charge diamond member hilto...       2  Negative   \n",
       "2  nice room 4 experience hotel monaco seattle go...       3   Neutral   \n",
       "3  unique great stay wonderful time hotel monaco ...       5  Positive   \n",
       "4  great stay great stay go seahawk game awesome ...       5  Positive   \n",
       "5  love monaco staff husband stay hotel crazy wee...       5  Positive   \n",
       "6  cozy stay rainy city husband spend 7 nights mo...       5  Positive   \n",
       "7  excellent staff housekeep quality hotel chock ...       4  Positive   \n",
       "8  hotel stay hotel monaco cruise room generous d...       5  Positive   \n",
       "9  excellent stay hotel monaco past delight recep...       5  Positive   \n",
       "\n",
       "   reviews_lenght  \n",
       "0             593  \n",
       "1            1689  \n",
       "2            1427  \n",
       "3             600  \n",
       "4            1281  \n",
       "5            1002  \n",
       "6             748  \n",
       "7             597  \n",
       "8             419  \n",
       "9             271  "
      ]
     },
     "execution_count": 3,
     "metadata": {},
     "output_type": "execute_result"
    }
   ],
   "source": [
    "import numpy as np\n",
    "\n",
    "num_parts = 4\n",
    "df_chunks = np.array_split(df, num_parts)\n",
    "\n",
    "cleaned_df = Text_processor.parallel_text_cleaning(df_chunks)\n",
    "cleaned_df.head(10)"
   ]
  },
  {
   "cell_type": "markdown",
   "metadata": {},
   "source": [
    "### Word Embeddings: feed pretrained word embeddings as vectors to our deep learning models"
   ]
  },
  {
   "cell_type": "code",
   "execution_count": 4,
   "metadata": {},
   "outputs": [],
   "source": [
    "# Importing pretrained word embeddings\n",
    "\n",
    "import requests\n",
    "import zipfile\n",
    "\n",
    "#url = \"http://downloads.cs.stanford.edu/nlp/data/glove.6B.zip\" \n",
    "#response = requests.get(url)\n",
    "\n",
    "#with open(\"glove.6B.zip\", \"wb\") as f:\n",
    "    #f.write(response.content)\n",
    "\n",
    "zip_file_path = \"glove.6B.zip\"\n",
    "# directory where to extract the contents (current working directory)\n",
    "extracted_dir = \".\"\n",
    "\n",
    "with zipfile.ZipFile(zip_file_path, 'r') as zip_ref:\n",
    "    # Extract all the contents into the target directory\n",
    "    zip_ref.extractall(extracted_dir)\n",
    "\n",
    "\n",
    "words_embeddings = dict()\n",
    "# Explicitly specify the encoding as 'utf-8'\n",
    "with open('glove.6B.50d.txt', 'r', encoding='utf-8') as f:\n",
    "    for line in f.readlines():\n",
    "        line = line.split(' ')\n",
    "        try:\n",
    "            words_embeddings[line[0]] = np.array(line[1:], dtype=float)\n",
    "        except Exception as e:\n",
    "            # Print the exception for debugging purposes\n",
    "            print(f\"Error processing line: {line}. Exception: {e}\")\n",
    "            continue"
   ]
  },
  {
   "cell_type": "code",
   "execution_count": 5,
   "metadata": {},
   "outputs": [
    {
     "data": {
      "text/html": [
       "<div>\n",
       "<style scoped>\n",
       "    .dataframe tbody tr th:only-of-type {\n",
       "        vertical-align: middle;\n",
       "    }\n",
       "\n",
       "    .dataframe tbody tr th {\n",
       "        vertical-align: top;\n",
       "    }\n",
       "\n",
       "    .dataframe thead th {\n",
       "        text-align: right;\n",
       "    }\n",
       "</style>\n",
       "<table border=\"1\" class=\"dataframe\">\n",
       "  <thead>\n",
       "    <tr style=\"text-align: right;\">\n",
       "      <th></th>\n",
       "      <th>Review</th>\n",
       "      <th>Rating</th>\n",
       "      <th>label</th>\n",
       "      <th>reviews_lenght</th>\n",
       "    </tr>\n",
       "  </thead>\n",
       "  <tbody>\n",
       "    <tr>\n",
       "      <th>0</th>\n",
       "      <td>[[0.20189, 0.80606, -1.1281, -0.59593, 0.52756...</td>\n",
       "      <td>4</td>\n",
       "      <td>2</td>\n",
       "      <td>593</td>\n",
       "    </tr>\n",
       "    <tr>\n",
       "      <th>1</th>\n",
       "      <td>[[-0.53646, -0.072432, 0.24182, 0.099021, 0.18...</td>\n",
       "      <td>2</td>\n",
       "      <td>0</td>\n",
       "      <td>1689</td>\n",
       "    </tr>\n",
       "    <tr>\n",
       "      <th>2</th>\n",
       "      <td>[[0.20189, 0.80606, -1.1281, -0.59593, 0.52756...</td>\n",
       "      <td>3</td>\n",
       "      <td>1</td>\n",
       "      <td>1427</td>\n",
       "    </tr>\n",
       "    <tr>\n",
       "      <th>3</th>\n",
       "      <td>[[0.53801, 1.0704, -0.87108, 0.7013, 1.0154, 0...</td>\n",
       "      <td>5</td>\n",
       "      <td>2</td>\n",
       "      <td>600</td>\n",
       "    </tr>\n",
       "    <tr>\n",
       "      <th>4</th>\n",
       "      <td>[[-0.026567, 1.3357, -1.028, -0.3729, 0.52012,...</td>\n",
       "      <td>5</td>\n",
       "      <td>2</td>\n",
       "      <td>1281</td>\n",
       "    </tr>\n",
       "    <tr>\n",
       "      <th>5</th>\n",
       "      <td>[[-0.13886, 1.1401, -0.85212, -0.29212, 0.7553...</td>\n",
       "      <td>5</td>\n",
       "      <td>2</td>\n",
       "      <td>1002</td>\n",
       "    </tr>\n",
       "    <tr>\n",
       "      <th>6</th>\n",
       "      <td>[[0.42559, 0.62546, -1.2205, 0.11198, 0.43133,...</td>\n",
       "      <td>5</td>\n",
       "      <td>2</td>\n",
       "      <td>748</td>\n",
       "    </tr>\n",
       "    <tr>\n",
       "      <th>7</th>\n",
       "      <td>[[-0.40431, 0.78002, -0.67538, -0.097149, 0.54...</td>\n",
       "      <td>4</td>\n",
       "      <td>2</td>\n",
       "      <td>597</td>\n",
       "    </tr>\n",
       "    <tr>\n",
       "      <th>8</th>\n",
       "      <td>[[1.6098, 1.0294, -0.50544, 0.40047, 0.38814, ...</td>\n",
       "      <td>5</td>\n",
       "      <td>2</td>\n",
       "      <td>419</td>\n",
       "    </tr>\n",
       "    <tr>\n",
       "      <th>9</th>\n",
       "      <td>[[-0.40431, 0.78002, -0.67538, -0.097149, 0.54...</td>\n",
       "      <td>5</td>\n",
       "      <td>2</td>\n",
       "      <td>271</td>\n",
       "    </tr>\n",
       "  </tbody>\n",
       "</table>\n",
       "</div>"
      ],
      "text/plain": [
       "                                              Review  Rating  label  \\\n",
       "0  [[0.20189, 0.80606, -1.1281, -0.59593, 0.52756...       4      2   \n",
       "1  [[-0.53646, -0.072432, 0.24182, 0.099021, 0.18...       2      0   \n",
       "2  [[0.20189, 0.80606, -1.1281, -0.59593, 0.52756...       3      1   \n",
       "3  [[0.53801, 1.0704, -0.87108, 0.7013, 1.0154, 0...       5      2   \n",
       "4  [[-0.026567, 1.3357, -1.028, -0.3729, 0.52012,...       5      2   \n",
       "5  [[-0.13886, 1.1401, -0.85212, -0.29212, 0.7553...       5      2   \n",
       "6  [[0.42559, 0.62546, -1.2205, 0.11198, 0.43133,...       5      2   \n",
       "7  [[-0.40431, 0.78002, -0.67538, -0.097149, 0.54...       4      2   \n",
       "8  [[1.6098, 1.0294, -0.50544, 0.40047, 0.38814, ...       5      2   \n",
       "9  [[-0.40431, 0.78002, -0.67538, -0.097149, 0.54...       5      2   \n",
       "\n",
       "   reviews_lenght  \n",
       "0             593  \n",
       "1            1689  \n",
       "2            1427  \n",
       "3             600  \n",
       "4            1281  \n",
       "5            1002  \n",
       "6             748  \n",
       "7             597  \n",
       "8             419  \n",
       "9             271  "
      ]
     },
     "execution_count": 5,
     "metadata": {},
     "output_type": "execute_result"
    }
   ],
   "source": [
    "from src.data_processing import Embeddings_processor\n",
    "\n",
    "# mapping sentences to their respective embeddings \n",
    "embeddings_proc = Embeddings_processor(words_embeddings)\n",
    "cleaned_df['Review'] = cleaned_df['Review'].apply(lambda x: embeddings_proc.word_vectors(x))\n",
    "\n",
    "# fill empty sentences\n",
    "for message in cleaned_df['Review']:\n",
    "    if message.shape[0] == 0:\n",
    "        message = np.zeros(shape=(1, 50))\n",
    "\n",
    "# map the labels to integers for one-hot encoding \n",
    "label_mapping = {'Positive': 2, 'Negative': 0, \"Neutral\":1}\n",
    "cleaned_df['label'] = cleaned_df['label'].map(label_mapping)\n",
    "\n",
    "cleaned_df.head(10)\n"
   ]
  },
  {
   "cell_type": "markdown",
   "metadata": {},
   "source": [
    "### Undersampling for classes' imbalance"
   ]
  },
  {
   "cell_type": "code",
   "execution_count": 6,
   "metadata": {},
   "outputs": [
    {
     "name": "stdout",
     "output_type": "stream",
     "text": [
      "Class distribution before undersampling: Counter({2: 15093, 0: 3214, 1: 2184})\n",
      "Class distribution after undersampling: Counter({0: 2184, 1: 2184, 2: 2184})\n"
     ]
    }
   ],
   "source": [
    "from collections import Counter\n",
    "from imblearn.under_sampling import RandomUnderSampler\n",
    "\n",
    "# classes distribution \n",
    "counter_before = Counter(cleaned_df[\"label\"])\n",
    "print(\"Class distribution before undersampling:\", counter_before)\n",
    "\n",
    "# Undersample the majority classes\n",
    "undersampler = RandomUnderSampler(random_state=42)\n",
    "\n",
    "# Reshape the \"Review\" column to a 2D array\n",
    "X = cleaned_df['Review'].values.reshape(-1, 1)\n",
    "\n",
    "# Apply the undersampler\n",
    "X_resampled, y_resampled = undersampler.fit_resample(X, cleaned_df[\"label\"])\n",
    "\n",
    "# Display class distribution after undersampling\n",
    "counter_after = Counter(y_resampled)\n",
    "print(\"Class distribution after undersampling:\", counter_after)"
   ]
  },
  {
   "cell_type": "code",
   "execution_count": 7,
   "metadata": {},
   "outputs": [],
   "source": [
    "# reshape back to its original form \n",
    "X_original_shape = X_resampled.reshape(-1,)\n"
   ]
  },
  {
   "cell_type": "markdown",
   "metadata": {},
   "source": [
    "### Shuffle the all_sequences_vector and y_resampled\n",
    "These 2 variables clusters in subsequent rows the observations belonging to the same class "
   ]
  },
  {
   "cell_type": "code",
   "execution_count": 8,
   "metadata": {},
   "outputs": [
    {
     "name": "stdout",
     "output_type": "stream",
     "text": [
      "pre-shuffled dataframe\n",
      "                                    review_embedding  label\n",
      "0  [[0.54623, 1.2042, -1.1288, -0.1325, 0.95529, ...      0\n",
      "1  [[-0.026567, 1.3357, -1.028, -0.3729, 0.52012,...      0\n",
      "2  [[-0.1166, -0.010887, 0.044444, -0.39349, 0.77...      0\n",
      "3  [[0.80165, -0.36917, -0.38166, -0.090699, -0.4...      0\n",
      "4  [[0.66845, -0.35565, 0.73838, -0.7142, 0.75459...      0\n",
      "5  [[0.13409, 0.68926, 0.45086, 0.052204, -0.3060...      0\n",
      "6  [[-0.53819, -0.40788, -0.1963, -0.80821, 0.077...      0\n",
      "7  [[1.1303, 0.28035, 0.15825, -0.36373, 0.63884,...      0\n",
      "8  [[0.23592, -0.073733, 0.21613, -0.57797, 0.147...      0\n",
      "9  [[0.44285, 0.31399, 0.20969, -0.39017, 0.37531...      0\n",
      "post-shuffled dataframe\n",
      "                                    review_embedding  label\n",
      "0  [[-0.88412, -0.072734, -0.8397, -0.12462, 0.74...      0\n",
      "1  [[-0.32313, 0.89266, 0.54943, 0.59294, 0.56707...      0\n",
      "2  [[0.4901, -0.060918, -0.28137, 0.49583, -0.311...      0\n",
      "3  [[-0.026567, 1.3357, -1.028, -0.3729, 0.52012,...      0\n",
      "4  [[0.23302, 0.45885, 0.26602, 0.038204, 0.56694...      2\n",
      "5  [[0.3333, 0.30612, -0.63572, 0.051507, 0.78602...      2\n",
      "6  [[0.51518, 0.80125, -0.13731, -0.472, 1.0321, ...      1\n",
      "7  [[-0.026567, 1.3357, -1.028, -0.3729, 0.52012,...      2\n",
      "8  [[0.52735, -0.61475, -0.42524, -0.88306, -0.15...      1\n",
      "9  [[0.20189, 0.80606, -1.1281, -0.59593, 0.52756...      1\n"
     ]
    }
   ],
   "source": [
    "new_df = pd.DataFrame({\n",
    "    'review_embedding': [embedding for embedding in X_original_shape],\n",
    "    'label': y_resampled\n",
    "})\n",
    "\n",
    "print(\"pre-shuffled dataframe\")\n",
    "print(new_df.head(10))\n",
    "\n",
    "shuffled_df = new_df.sample(frac=1, random_state=1)\n",
    "shuffled_df.reset_index(drop=True, inplace=True)\n",
    "print(\"post-shuffled dataframe\")\n",
    "print(shuffled_df.head(10))"
   ]
  },
  {
   "cell_type": "markdown",
   "metadata": {},
   "source": [
    "### Splitting into training, validation and test set "
   ]
  },
  {
   "cell_type": "code",
   "execution_count": 9,
   "metadata": {},
   "outputs": [
    {
     "name": "stdout",
     "output_type": "stream",
     "text": [
      "4586 983 983\n",
      "4586 983 983\n"
     ]
    }
   ],
   "source": [
    "X_shuffled = shuffled_df[\"review_embedding\"].values\n",
    "y_shuffled = shuffled_df[\"label\"].values\n",
    "\n",
    "embeddings_vectors  = [embedding for embedding in X_shuffled]\n",
    "\n",
    "split_index_1 = int(len(embeddings_vectors) * 0.7)\n",
    "split_index_2 = int(len(embeddings_vectors) * 0.85)\n",
    "X_train, X_val, X_test = embeddings_vectors[:split_index_1], embeddings_vectors[split_index_1:split_index_2], embeddings_vectors[split_index_2:]\n",
    "y_train, y_val, y_test = y_shuffled[:split_index_1], y_shuffled[split_index_1:split_index_2], y_shuffled[split_index_2:]\n",
    "\n",
    "print(len(X_train), len(X_val), len(X_test))\n",
    "print(len(y_train), len(y_val), len(y_test))\n"
   ]
  },
  {
   "cell_type": "markdown",
   "metadata": {},
   "source": [
    "### Padding the input sentence arrays\n",
    "Recurrent neural networks (RNNs) and their variants process input data sequentially. \n",
    "\n",
    "In these models, each time step typically corresponds to an element in the input sequence. \n",
    "\n",
    "To apply batch processing efficiently, all sequences within a batch must have the same length, requiring padding for shorter sequences."
   ]
  },
  {
   "cell_type": "code",
   "execution_count": 10,
   "metadata": {},
   "outputs": [
    {
     "name": "stdout",
     "output_type": "stream",
     "text": [
      "Sequences maximum lenght: 1807\n"
     ]
    }
   ],
   "source": [
    "# determine the maximum lenght of the input sequences\n",
    "\n",
    "sequence_lengths = [len(sequence) for sequence in X_train]\n",
    "max_length = max(sequence_lengths)\n",
    "print(f\"Sequences maximum lenght: {max_length}\")"
   ]
  },
  {
   "cell_type": "code",
   "execution_count": 11,
   "metadata": {},
   "outputs": [
    {
     "name": "stderr",
     "output_type": "stream",
     "text": [
      "Padding Progress:   3%|▎         | 144/4586 [00:01<00:34, 128.29it/s]\n",
      "Padding Progress:   3%|▎         | 31/983 [00:00<00:06, 149.44it/s]\n",
      "Padding Progress:   3%|▎         | 31/983 [00:00<00:06, 151.62it/s]\n"
     ]
    }
   ],
   "source": [
    "# Padding X_train, X_val and X_test \n",
    "X_train = Embeddings_processor.vectors_padding(X_train, max_length)\n",
    "X_val = Embeddings_processor.vectors_padding(X_val, max_length)\n",
    "X_test  = Embeddings_processor.vectors_padding(X_test, max_length)"
   ]
  },
  {
   "cell_type": "code",
   "execution_count": 13,
   "metadata": {},
   "outputs": [],
   "source": [
    "# One hot encode the labels \n",
    "enc_y_train, enc_y_val, enc_y_test = Embeddings_processor.label_encoder(y_train, y_val, y_test)"
   ]
  },
  {
   "cell_type": "markdown",
   "metadata": {},
   "source": [
    "# Recurrent Neural Network"
   ]
  },
  {
   "cell_type": "code",
   "execution_count": 17,
   "metadata": {},
   "outputs": [
    {
     "name": "stdout",
     "output_type": "stream",
     "text": [
      "Epoch 1/15\n"
     ]
    },
    {
     "name": "stderr",
     "output_type": "stream",
     "text": [
      "2024-02-04 18:38:14.703595: W external/local_tsl/tsl/framework/cpu_allocator_impl.cc:83] Allocation of 1657380400 exceeds 10% of free system memory.\n"
     ]
    },
    {
     "name": "stdout",
     "output_type": "stream",
     "text": [
      "144/144 [==============================] - 24s 159ms/step - loss: 1.1028 - accuracy: 0.3312 - auc: 0.5021 - val_loss: 1.0994 - val_accuracy: 0.3479 - val_auc: 0.5110\n",
      "Epoch 2/15\n",
      "144/144 [==============================] - 26s 178ms/step - loss: 1.0999 - accuracy: 0.3360 - auc: 0.4983 - val_loss: 1.0994 - val_accuracy: 0.3377 - val_auc: 0.4981\n",
      "Epoch 3/15\n",
      "144/144 [==============================] - 31s 214ms/step - loss: 1.0992 - accuracy: 0.3362 - auc: 0.4983 - val_loss: 1.0988 - val_accuracy: 0.3388 - val_auc: 0.5053\n",
      "Epoch 4/15\n",
      "144/144 [==============================] - 31s 218ms/step - loss: 1.0988 - accuracy: 0.3341 - auc: 0.5021 - val_loss: 1.0979 - val_accuracy: 0.3469 - val_auc: 0.5163\n",
      "Epoch 5/15\n",
      "144/144 [==============================] - 26s 179ms/step - loss: 1.0982 - accuracy: 0.3384 - auc: 0.5102 - val_loss: 1.1022 - val_accuracy: 0.3042 - val_auc: 0.4901\n",
      "Epoch 6/15\n",
      "144/144 [==============================] - 26s 179ms/step - loss: 1.0997 - accuracy: 0.3345 - auc: 0.5015 - val_loss: 1.0985 - val_accuracy: 0.3194 - val_auc: 0.5083\n",
      "Epoch 7/15\n",
      "144/144 [==============================] - 26s 183ms/step - loss: 1.0993 - accuracy: 0.3306 - auc: 0.4957 - val_loss: 1.0981 - val_accuracy: 0.3459 - val_auc: 0.5104\n",
      "Epoch 8/15\n",
      "144/144 [==============================] - 26s 183ms/step - loss: 1.0992 - accuracy: 0.3236 - auc: 0.4917 - val_loss: 1.0992 - val_accuracy: 0.3143 - val_auc: 0.4892\n",
      "Epoch 9/15\n",
      "144/144 [==============================] - 31s 218ms/step - loss: 1.1001 - accuracy: 0.3282 - auc: 0.4928 - val_loss: 1.0993 - val_accuracy: 0.3266 - val_auc: 0.4931\n",
      "Epoch 10/15\n",
      "144/144 [==============================] - 32s 224ms/step - loss: 1.0988 - accuracy: 0.3260 - auc: 0.4943 - val_loss: 1.0989 - val_accuracy: 0.3398 - val_auc: 0.4893\n",
      "Epoch 11/15\n",
      "144/144 [==============================] - 26s 180ms/step - loss: 1.0987 - accuracy: 0.3345 - auc: 0.4963 - val_loss: 1.0991 - val_accuracy: 0.3021 - val_auc: 0.4884\n",
      "Epoch 12/15\n",
      "144/144 [==============================] - 33s 231ms/step - loss: 1.0987 - accuracy: 0.3260 - auc: 0.4982 - val_loss: 1.0984 - val_accuracy: 0.3286 - val_auc: 0.5015\n",
      "Epoch 13/15\n",
      "144/144 [==============================] - 30s 210ms/step - loss: 1.0988 - accuracy: 0.3336 - auc: 0.4963 - val_loss: 1.0984 - val_accuracy: 0.3469 - val_auc: 0.5176\n",
      "Epoch 14/15\n",
      "144/144 [==============================] - 25s 177ms/step - loss: 1.1007 - accuracy: 0.3304 - auc: 0.4962 - val_loss: 1.0991 - val_accuracy: 0.3266 - val_auc: 0.4959\n",
      "Epoch 15/15\n",
      "144/144 [==============================] - 25s 176ms/step - loss: 1.0989 - accuracy: 0.3293 - auc: 0.4918 - val_loss: 1.0988 - val_accuracy: 0.3266 - val_auc: 0.4951\n",
      "31/31 [==============================] - 2s 62ms/step\n"
     ]
    }
   ],
   "source": [
    "from src.deep_learning import RNN \n",
    "\n",
    "RNN_model = RNN(X_train, enc_y_train, X_val, enc_y_val, \n",
    "                X_test, enc_y_test)\n",
    "\n",
    "RNN_model.model_training(15)\n",
    "class_report, conf_matrix = RNN_model.model_evaluation(y_test)\n"
   ]
  },
  {
   "cell_type": "code",
   "execution_count": 18,
   "metadata": {},
   "outputs": [
    {
     "name": "stdout",
     "output_type": "stream",
     "text": [
      "              precision    recall  f1-score   support\n",
      "\n",
      "           0       0.33      1.00      0.50       326\n",
      "           1       1.00      0.00      0.00       308\n",
      "           2       1.00      0.00      0.01       349\n",
      "\n",
      "    accuracy                           0.33       983\n",
      "   macro avg       0.78      0.33      0.17       983\n",
      "weighted avg       0.78      0.33      0.17       983\n",
      "\n"
     ]
    },
    {
     "data": {
      "image/png": "[encoded data removed]",
      "text/plain": [
       "<Figure size 500x400 with 2 Axes>"
      ]
     },
     "metadata": {},
     "output_type": "display_data"
    }
   ],
   "source": [
    "import matplotlib.pyplot as plt\n",
    "import seaborn as sns\n",
    "\n",
    "print(class_report)\n",
    "plt.figure(figsize=(5,4))\n",
    "sns.heatmap(conf_matrix, annot=True)\n",
    "plt.title('Confusion Matrix')\n",
    "plt.ylabel('Actual Values')\n",
    "plt.xlabel('Predicted Values')\n",
    "plt.show()"
   ]
  },
  {
   "cell_type": "markdown",
   "metadata": {},
   "source": [
    "# Long Short Term Memory"
   ]
  },
  {
   "cell_type": "code",
   "execution_count": 16,
   "metadata": {},
   "outputs": [
    {
     "name": "stdout",
     "output_type": "stream",
     "text": [
      "Epoch 1/15\n"
     ]
    },
    {
     "name": "stderr",
     "output_type": "stream",
     "text": [
      "2024-02-04 18:14:40.063387: W external/local_tsl/tsl/framework/cpu_allocator_impl.cc:83] Allocation of 1657380400 exceeds 10% of free system memory.\n"
     ]
    },
    {
     "name": "stdout",
     "output_type": "stream",
     "text": [
      "144/144 [==============================] - 88s 599ms/step - loss: 1.0316 - accuracy: 0.4760 - auc: 0.6684 - val_loss: 0.9321 - val_accuracy: 0.5565 - val_auc: 0.7538\n",
      "Epoch 2/15\n",
      "144/144 [==============================] - 81s 561ms/step - loss: 0.8561 - accuracy: 0.5964 - auc: 0.7902 - val_loss: 0.8473 - val_accuracy: 0.5941 - val_auc: 0.7933\n",
      "Epoch 3/15\n",
      "144/144 [==============================] - 97s 678ms/step - loss: 0.7803 - accuracy: 0.6457 - auc: 0.8305 - val_loss: 0.8000 - val_accuracy: 0.6328 - val_auc: 0.8184\n",
      "Epoch 4/15\n",
      "144/144 [==============================] - 105s 732ms/step - loss: 0.7363 - accuracy: 0.6683 - auc: 0.8507 - val_loss: 0.7950 - val_accuracy: 0.6338 - val_auc: 0.8206\n",
      "Epoch 5/15\n",
      "144/144 [==============================] - 101s 702ms/step - loss: 0.7042 - accuracy: 0.6825 - auc: 0.8640 - val_loss: 0.7568 - val_accuracy: 0.6460 - val_auc: 0.8374\n",
      "Epoch 6/15\n",
      "144/144 [==============================] - 98s 684ms/step - loss: 0.6837 - accuracy: 0.6930 - auc: 0.8728 - val_loss: 0.7467 - val_accuracy: 0.6501 - val_auc: 0.8423\n",
      "Epoch 7/15\n",
      "144/144 [==============================] - 102s 710ms/step - loss: 0.6560 - accuracy: 0.7076 - auc: 0.8832 - val_loss: 0.7585 - val_accuracy: 0.6541 - val_auc: 0.8375\n",
      "Epoch 8/15\n",
      "144/144 [==============================] - 98s 680ms/step - loss: 0.6374 - accuracy: 0.7194 - auc: 0.8904 - val_loss: 0.7373 - val_accuracy: 0.6612 - val_auc: 0.8471\n",
      "Epoch 9/15\n",
      "144/144 [==============================] - 77s 534ms/step - loss: 0.6161 - accuracy: 0.7314 - auc: 0.8989 - val_loss: 0.7373 - val_accuracy: 0.6653 - val_auc: 0.8480\n",
      "Epoch 10/15\n",
      "144/144 [==============================] - 95s 661ms/step - loss: 0.6037 - accuracy: 0.7377 - auc: 0.9027 - val_loss: 0.7397 - val_accuracy: 0.6602 - val_auc: 0.8471\n",
      "Epoch 11/15\n",
      "144/144 [==============================] - 83s 574ms/step - loss: 0.5860 - accuracy: 0.7490 - auc: 0.9088 - val_loss: 0.7616 - val_accuracy: 0.6562 - val_auc: 0.8420\n",
      "Epoch 12/15\n",
      "144/144 [==============================] - 84s 585ms/step - loss: 0.5717 - accuracy: 0.7614 - auc: 0.9133 - val_loss: 0.7355 - val_accuracy: 0.6714 - val_auc: 0.8510\n",
      "Epoch 13/15\n",
      "144/144 [==============================] - 74s 516ms/step - loss: 0.5622 - accuracy: 0.7647 - auc: 0.9164 - val_loss: 0.7407 - val_accuracy: 0.6653 - val_auc: 0.8490\n",
      "Epoch 14/15\n",
      "144/144 [==============================] - 88s 615ms/step - loss: 0.5429 - accuracy: 0.7750 - auc: 0.9229 - val_loss: 0.7383 - val_accuracy: 0.6714 - val_auc: 0.8512\n",
      "Epoch 15/15\n",
      "144/144 [==============================] - 88s 613ms/step - loss: 0.5309 - accuracy: 0.7824 - auc: 0.9261 - val_loss: 0.7426 - val_accuracy: 0.6724 - val_auc: 0.8512\n",
      "31/31 [==============================] - 5s 154ms/step\n"
     ]
    }
   ],
   "source": [
    "from src.deep_learning import LSTM \n",
    "\n",
    "LSTM_model = LSTM(X_train, enc_y_train, X_val, enc_y_val, \n",
    "                X_test, enc_y_test)\n",
    "\n",
    "LSTM_model.model_training(15)\n",
    "class_report, conf_matrix = LSTM_model.model_evaluation(y_test)"
   ]
  },
  {
   "cell_type": "code",
   "execution_count": 19,
   "metadata": {},
   "outputs": [
    {
     "name": "stdout",
     "output_type": "stream",
     "text": [
      "              precision    recall  f1-score   support\n",
      "\n",
      "           0       0.33      1.00      0.50       326\n",
      "           1       1.00      0.00      0.00       308\n",
      "           2       1.00      0.00      0.01       349\n",
      "\n",
      "    accuracy                           0.33       983\n",
      "   macro avg       0.78      0.33      0.17       983\n",
      "weighted avg       0.78      0.33      0.17       983\n",
      "\n"
     ]
    },
    {
     "data": {
      "image/png": "[encoded data removed]",
      "text/plain": [
       "<Figure size 500x400 with 2 Axes>"
      ]
     },
     "metadata": {},
     "output_type": "display_data"
    }
   ],
   "source": [
    "print(class_report)\n",
    "plt.figure(figsize=(5,4))\n",
    "sns.heatmap(conf_matrix, annot=True)\n",
    "plt.title('Confusion Matrix')\n",
    "plt.ylabel('Actual Values')\n",
    "plt.xlabel('Predicted Values')\n",
    "plt.show()"
   ]
  }
 ],
 "metadata": {
  "kernelspec": {
   "display_name": "Sentiment",
   "language": "python",
   "name": "python3"
  },
  "language_info": {
   "codemirror_mode": {
    "name": "ipython",
    "version": 3
   },
   "file_extension": ".py",
   "mimetype": "text/x-python",
   "name": "python",
   "nbconvert_exporter": "python",
   "pygments_lexer": "ipython3",
   "version": "3.10.12"
  }
 },
 "nbformat": 4,
 "nbformat_minor": 2
}
